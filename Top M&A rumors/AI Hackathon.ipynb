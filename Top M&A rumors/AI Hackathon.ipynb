{
 "cells": [
  {
   "cell_type": "code",
   "execution_count": 263,
   "metadata": {},
   "outputs": [],
   "source": [
    "# Importing libraries to be used\n",
    "import numpy as np\n",
    "import pandas as pd\n",
    "import seaborn as sns\n",
    "import matplotlib.pyplot as plt\n",
    "%matplotlib inline"
   ]
  },
  {
   "cell_type": "code",
   "execution_count": 264,
   "metadata": {},
   "outputs": [],
   "source": [
    "# Reading csv data file and converting it to pandas dataframe\n",
    "data = pd.read_csv('Data.csv')\n",
    "data = pd.DataFrame(data)"
   ]
  },
  {
   "cell_type": "code",
   "execution_count": 181,
   "metadata": {
    "collapsed": true
   },
   "outputs": [
    {
     "name": "stdout",
     "output_type": "stream",
     "text": [
      "CREDIBILITY                        1.000000\n",
      "MARKETCAP                          0.031100\n",
      "[0,1]                              0.016830\n",
      "EPS                                0.016124\n",
      "target_price_move_10               0.015324\n",
      "[-1,0]                             0.015063\n",
      "[4,5]                              0.013555\n",
      "CASH                               0.013043\n",
      "WEEKHIGH52                         0.011016\n",
      "[5,6]                              0.007690\n",
      "[3,4]                              0.001413\n",
      "NETMARGINS                        -0.001792\n",
      "diff_target_SP500_price_move_10   -0.005156\n",
      "PE                                -0.005832\n",
      "WEEKLOW52                         -0.007362\n",
      "[1,2]                             -0.009953\n",
      "LASTTRADE                         -0.011580\n",
      "AVERAGEVOLUME                     -0.012109\n",
      "RELIABILITY                       -0.013433\n",
      "target_price_move_3               -0.014642\n",
      "Unnamed: 0                        -0.015728\n",
      "[2,3]                             -0.016685\n",
      "[-2,-1]                           -0.018824\n",
      "diff_target_SP500_price_move_5    -0.020252\n",
      "diff_target_SP500_price_move_3    -0.020562\n",
      "GROSSMARGINS                      -0.041235\n",
      "target_price_move_5               -0.043490\n",
      "[6,7]                                   NaN\n",
      "[7,8]                                   NaN\n",
      "[8,9]                                   NaN\n",
      "[9,10]                                  NaN\n",
      "Name: CREDIBILITY, dtype: float64\n"
     ]
    }
   ],
   "source": [
    "# Correlation matrix of target features with Credibility\n",
    "corr_matrix = data.corr()\n",
    "print(corr_matrix[\"CREDIBILITY\"].sort_values(ascending=False))"
   ]
  },
  {
   "cell_type": "code",
   "execution_count": 21,
   "metadata": {
    "collapsed": true
   },
   "outputs": [
    {
     "name": "stdout",
     "output_type": "stream",
     "text": [
      "RELIABILITY                        1.000000\n",
      "GROSSMARGINS                       0.025248\n",
      "EPS                                0.018333\n",
      "[3,4]                              0.012775\n",
      "LASTTRADE                          0.009898\n",
      "WEEKHIGH52                         0.009410\n",
      "AVERAGEVOLUME                      0.008485\n",
      "[2,3]                              0.007447\n",
      "[5,6]                              0.007163\n",
      "PE                                 0.006358\n",
      "[0,1]                              0.005689\n",
      "WEEKLOW52                          0.005310\n",
      "[4,5]                              0.003026\n",
      "diff_target_SP500_price_move_3     0.001766\n",
      "Unnamed: 0                        -0.000301\n",
      "diff_target_SP500_price_move_10   -0.002219\n",
      "target_price_move_5               -0.003250\n",
      "target_price_move_3               -0.008775\n",
      "[-1,0]                            -0.009314\n",
      "NETMARGINS                        -0.012330\n",
      "diff_target_SP500_price_move_5    -0.013389\n",
      "CREDIBILITY                       -0.013433\n",
      "MARKETCAP                         -0.018050\n",
      "CASH                              -0.018721\n",
      "[1,2]                             -0.021085\n",
      "[-2,-1]                           -0.027431\n",
      "target_price_move_10              -0.049869\n",
      "[6,7]                                   NaN\n",
      "[7,8]                                   NaN\n",
      "[8,9]                                   NaN\n",
      "[9,10]                                  NaN\n",
      "Name: RELIABILITY, dtype: float64\n"
     ]
    }
   ],
   "source": [
    "# Correlation matrix of target features with Reliability\n",
    "corr_matrix = data.corr()\n",
    "print(corr_matrix[\"RELIABILITY\"].sort_values(ascending=False))"
   ]
  },
  {
   "cell_type": "code",
   "execution_count": 265,
   "metadata": {},
   "outputs": [],
   "source": [
    "# Credibility and reliability are major factors indicating whether a rumor is true or not\n",
    "# Calculating Weighted average of both the columns into a new column and dropping them\n",
    "# Reliability is given slight more weight because if a source is reliable it will be credible but vice versa is not true always\n",
    "data['avg_reliability'] = (4*data['CREDIBILITY']+5*data['RELIABILITY'])/9\n",
    "data = data.drop(['CREDIBILITY','RELIABILITY'],axis=1)"
   ]
  },
  {
   "cell_type": "code",
   "execution_count": 16,
   "metadata": {
    "collapsed": true
   },
   "outputs": [
    {
     "name": "stdout",
     "output_type": "stream",
     "text": [
      "avg_reliability                    1.000000\n",
      "EPS                                0.024344\n",
      "[0,1]                              0.016574\n",
      "WEEKHIGH52                         0.014585\n",
      "[4,5]                              0.012326\n",
      "MARKETCAP                          0.011860\n",
      "[5,6]                              0.010572\n",
      "[3,4]                              0.009472\n",
      "[-1,0]                             0.005368\n",
      "PE                                -0.000270\n",
      "WEEKLOW52                         -0.002126\n",
      "LASTTRADE                         -0.002329\n",
      "CASH                              -0.002353\n",
      "AVERAGEVOLUME                     -0.003660\n",
      "diff_target_SP500_price_move_10   -0.005390\n",
      "[2,3]                             -0.007832\n",
      "NETMARGINS                        -0.009468\n",
      "Unnamed: 0                        -0.012194\n",
      "diff_target_SP500_price_move_3    -0.014522\n",
      "GROSSMARGINS                      -0.014860\n",
      "target_price_move_3               -0.016933\n",
      "target_price_move_10              -0.021081\n",
      "[1,2]                             -0.021446\n",
      "diff_target_SP500_price_move_5    -0.024243\n",
      "[-2,-1]                           -0.032381\n",
      "target_price_move_5               -0.035305\n",
      "[6,7]                                   NaN\n",
      "[7,8]                                   NaN\n",
      "[8,9]                                   NaN\n",
      "[9,10]                                  NaN\n",
      "Name: avg_reliability, dtype: float64\n"
     ]
    }
   ],
   "source": [
    "# Correlation matrix of target features with Average Reliability\n",
    "corr_matrix = data.corr()\n",
    "print(corr_matrix[\"avg_reliability\"].sort_values(ascending=False))"
   ]
  },
  {
   "cell_type": "code",
   "execution_count": 266,
   "metadata": {},
   "outputs": [],
   "source": [
    "# Feature Extraction and dimensionality reduction on the basis of correlation and observed trends/concepts\n",
    "# Dropping less important columns and performing weighted average of similar columns\n",
    "\n",
    "data = data.drop(['[6,7]','[7,8]','[8,9]','[9,10]','diff_target_SP500_price_move_10','diff_target_SP500_price_move_5','diff_target_SP500_price_move_3'],axis=1)\n",
    "\n",
    "data['avg_target_price_move'] = (2*data['target_price_move_3']+3*data['target_price_move_5']+data['target_price_move_10'])/6\n",
    "data = data.drop(['target_price_move_3','target_price_move_5','target_price_move_10'],axis=1)\n",
    "\n",
    "data['[-2,0]'] = data['[-1,0]']        # data['[-2,-1]'] almost all zero values so neglected \n",
    "data = data.drop(['Unnamed: 0','[-2,-1]','[-1,0]'],axis=1)\n",
    "\n",
    "data['[0,3]'] = (data['[0,1]']+data['[1,2]']+data['[2,3]'])/3\n",
    "data = data.drop(['[0,1]','[1,2]','[2,3]'],axis=1)\n",
    "\n",
    "data['[3,6]'] = (data['[3,4]']+data['[4,5]'])/2       # data['[5,6]'] almost all zero values so neglected \n",
    "data = data.drop(['[3,4]','[4,5]','[5,6]'],axis=1)"
   ]
  },
  {
   "cell_type": "code",
   "execution_count": 267,
   "metadata": {},
   "outputs": [
    {
     "data": {
      "text/plain": [
       "(3833, 16)"
      ]
     },
     "execution_count": 267,
     "metadata": {},
     "output_type": "execute_result"
    }
   ],
   "source": [
    "data.shape"
   ]
  },
  {
   "cell_type": "code",
   "execution_count": 268,
   "metadata": {},
   "outputs": [
    {
     "data": {
      "text/plain": [
       "['RumorDate',\n",
       " 'MARKETCAP',\n",
       " 'LASTTRADE',\n",
       " 'WEEKHIGH52',\n",
       " 'WEEKLOW52',\n",
       " 'CASH',\n",
       " 'EPS',\n",
       " 'PE',\n",
       " 'GROSSMARGINS',\n",
       " 'NETMARGINS',\n",
       " 'AVERAGEVOLUME',\n",
       " 'avg_reliability',\n",
       " 'avg_target_price_move',\n",
       " '[-2,0]',\n",
       " '[0,3]',\n",
       " '[3,6]']"
      ]
     },
     "execution_count": 268,
     "metadata": {},
     "output_type": "execute_result"
    }
   ],
   "source": [
    "# listing all columns by names\n",
    "cols = list(data.columns.values)\n",
    "cols"
   ]
  },
  {
   "cell_type": "code",
   "execution_count": 269,
   "metadata": {},
   "outputs": [
    {
     "data": {
      "text/html": [
       "<div>\n",
       "<style scoped>\n",
       "    .dataframe tbody tr th:only-of-type {\n",
       "        vertical-align: middle;\n",
       "    }\n",
       "\n",
       "    .dataframe tbody tr th {\n",
       "        vertical-align: top;\n",
       "    }\n",
       "\n",
       "    .dataframe thead th {\n",
       "        text-align: right;\n",
       "    }\n",
       "</style>\n",
       "<table border=\"1\" class=\"dataframe\">\n",
       "  <thead>\n",
       "    <tr style=\"text-align: right;\">\n",
       "      <th></th>\n",
       "      <th>RumorMonth</th>\n",
       "      <th>MARKETCAP</th>\n",
       "      <th>CASH</th>\n",
       "      <th>EPS</th>\n",
       "      <th>PE</th>\n",
       "      <th>NETMARGINS</th>\n",
       "      <th>AVERAGEVOLUME</th>\n",
       "      <th>avg_target_price_move</th>\n",
       "      <th>[-2,0]</th>\n",
       "      <th>[0,3]</th>\n",
       "      <th>[3,6]</th>\n",
       "      <th>avg_reliability</th>\n",
       "    </tr>\n",
       "  </thead>\n",
       "  <tbody>\n",
       "    <tr>\n",
       "      <th>0</th>\n",
       "      <td>6</td>\n",
       "      <td>0.001867</td>\n",
       "      <td>0.006359</td>\n",
       "      <td>0.200737</td>\n",
       "      <td>0.004010</td>\n",
       "      <td>0.503122</td>\n",
       "      <td>0.002178</td>\n",
       "      <td>0.091323</td>\n",
       "      <td>0.0</td>\n",
       "      <td>0.169819</td>\n",
       "      <td>0.245271</td>\n",
       "      <td>0.262860</td>\n",
       "    </tr>\n",
       "    <tr>\n",
       "      <th>1</th>\n",
       "      <td>10</td>\n",
       "      <td>0.000436</td>\n",
       "      <td>0.015291</td>\n",
       "      <td>0.200244</td>\n",
       "      <td>0.003134</td>\n",
       "      <td>0.101977</td>\n",
       "      <td>0.005157</td>\n",
       "      <td>0.114960</td>\n",
       "      <td>0.0</td>\n",
       "      <td>0.169819</td>\n",
       "      <td>0.245271</td>\n",
       "      <td>0.750318</td>\n",
       "    </tr>\n",
       "    <tr>\n",
       "      <th>2</th>\n",
       "      <td>3</td>\n",
       "      <td>0.000082</td>\n",
       "      <td>0.003331</td>\n",
       "      <td>0.200207</td>\n",
       "      <td>0.001419</td>\n",
       "      <td>0.000000</td>\n",
       "      <td>0.037541</td>\n",
       "      <td>0.129356</td>\n",
       "      <td>0.0</td>\n",
       "      <td>0.248192</td>\n",
       "      <td>0.127712</td>\n",
       "      <td>0.241860</td>\n",
       "    </tr>\n",
       "    <tr>\n",
       "      <th>3</th>\n",
       "      <td>3</td>\n",
       "      <td>0.003343</td>\n",
       "      <td>0.007570</td>\n",
       "      <td>0.199467</td>\n",
       "      <td>0.001077</td>\n",
       "      <td>0.477627</td>\n",
       "      <td>0.007154</td>\n",
       "      <td>0.117686</td>\n",
       "      <td>0.0</td>\n",
       "      <td>0.248192</td>\n",
       "      <td>0.127712</td>\n",
       "      <td>0.255077</td>\n",
       "    </tr>\n",
       "    <tr>\n",
       "      <th>4</th>\n",
       "      <td>12</td>\n",
       "      <td>0.013390</td>\n",
       "      <td>0.015291</td>\n",
       "      <td>0.197011</td>\n",
       "      <td>0.002795</td>\n",
       "      <td>0.543184</td>\n",
       "      <td>0.007078</td>\n",
       "      <td>0.134985</td>\n",
       "      <td>0.0</td>\n",
       "      <td>0.247405</td>\n",
       "      <td>0.128892</td>\n",
       "      <td>0.161592</td>\n",
       "    </tr>\n",
       "  </tbody>\n",
       "</table>\n",
       "</div>"
      ],
      "text/plain": [
       "   RumorMonth  MARKETCAP      CASH       EPS        PE  NETMARGINS  \\\n",
       "0           6   0.001867  0.006359  0.200737  0.004010    0.503122   \n",
       "1          10   0.000436  0.015291  0.200244  0.003134    0.101977   \n",
       "2           3   0.000082  0.003331  0.200207  0.001419    0.000000   \n",
       "3           3   0.003343  0.007570  0.199467  0.001077    0.477627   \n",
       "4          12   0.013390  0.015291  0.197011  0.002795    0.543184   \n",
       "\n",
       "   AVERAGEVOLUME  avg_target_price_move  [-2,0]     [0,3]     [3,6]  \\\n",
       "0       0.002178               0.091323     0.0  0.169819  0.245271   \n",
       "1       0.005157               0.114960     0.0  0.169819  0.245271   \n",
       "2       0.037541               0.129356     0.0  0.248192  0.127712   \n",
       "3       0.007154               0.117686     0.0  0.248192  0.127712   \n",
       "4       0.007078               0.134985     0.0  0.247405  0.128892   \n",
       "\n",
       "   avg_reliability  \n",
       "0         0.262860  \n",
       "1         0.750318  \n",
       "2         0.241860  \n",
       "3         0.255077  \n",
       "4         0.161592  "
      ]
     },
     "execution_count": 269,
     "metadata": {},
     "output_type": "execute_result"
    }
   ],
   "source": [
    "# rearranging dataframe\n",
    "data = data[['RumorDate','MARKETCAP','LASTTRADE','WEEKHIGH52','WEEKLOW52','CASH','EPS','PE','GROSSMARGINS','NETMARGINS','AVERAGEVOLUME','avg_target_price_move','[-2,0]','[0,3]','[3,6]','avg_reliability']]\n",
    "data = data.drop(['LASTTRADE','GROSSMARGINS','WEEKHIGH52','WEEKLOW52'],axis=1)\n",
    "\n",
    "# extracting month out of date column and dropping it\n",
    "data['RumorMonth'] = pd.DatetimeIndex(data['RumorDate']).month\n",
    "data = data.drop(['RumorDate'],axis=1)\n",
    "\n",
    "# again rearranging\n",
    "data = data[['RumorMonth','MARKETCAP','CASH','EPS','PE','NETMARGINS','AVERAGEVOLUME','avg_target_price_move','[-2,0]','[0,3]','[3,6]','avg_reliability']]\n",
    "data.head()"
   ]
  },
  {
   "cell_type": "code",
   "execution_count": 270,
   "metadata": {},
   "outputs": [
    {
     "data": {
      "text/plain": [
       "RumorMonth                 int64\n",
       "MARKETCAP                float64\n",
       "CASH                     float64\n",
       "EPS                      float64\n",
       "PE                       float64\n",
       "NETMARGINS               float64\n",
       "AVERAGEVOLUME            float64\n",
       "avg_target_price_move    float64\n",
       "[-2,0]                   float64\n",
       "[0,3]                    float64\n",
       "[3,6]                    float64\n",
       "avg_reliability          float64\n",
       "dtype: object"
      ]
     },
     "execution_count": 270,
     "metadata": {},
     "output_type": "execute_result"
    }
   ],
   "source": [
    "# datatypes of columns\n",
    "data.dtypes"
   ]
  },
  {
   "cell_type": "code",
   "execution_count": 277,
   "metadata": {},
   "outputs": [],
   "source": [
    "# Importing regression models from sklearn library \n",
    "from sklearn.linear_model import LinearRegression\n",
    "from sklearn.linear_model import Lasso\n",
    "\n",
    "# Training of algorithms (Linear/Lasso Regression)\n",
    "# Training algorithm for each month to get the regression output, to get the mark of Top100 rumors\n",
    "# i.e. rumors having score greater than mark of each month will lie in top 100\n",
    "\n",
    "# Initialising mark of each month\n",
    "mark = [None]*12\n",
    "\n",
    "# Coefficient matrix to store coefficients of model of each month\n",
    "reg = [[0 for x in range(10)] for y in range(12)] \n",
    "\n",
    "months = [1,2,3,4,5,6,7,8,9,10,11,12]\n",
    "\n",
    "# iterating over each month to get top100 rumors of each month\n",
    "for i in months:\n",
    "\n",
    "    data = data[(data['RumorMonth'] == i)]\n",
    "    \n",
    "    # Creating dataset to train of ith month\n",
    "    X = data.iloc[:,1:11]\n",
    "    Y = data.iloc[:,11]\n",
    "    \n",
    "    # Training model(Linear Regression)         # Lasso Regression   \n",
    "    lin_reg = LinearRegression()                # lassoReg = Lasso(alpha=0.01, normalize=True)\n",
    "    reg[i-1] = lin_reg.fit(X, Y)                # reg[i-1] = lassoReg.fit(X,Y)\n",
    "    \n",
    "    # Predicting \n",
    "    Y_pred = lin_reg.predict(X)                 # Y_pred = lassoReg.predict(X)\n",
    "    \n",
    "    # Sorting predictions in descending order to get top100 rumors and mark\n",
    "    sorted_array = np.sort(Y_pred)\n",
    "    Y_pred = sorted_array[::-1]       # reversing sort\n",
    "    \n",
    "    # Assigning mark of each month to classify rumors of upcoming month\n",
    "    if(len(Y_pred) >= 100):         \n",
    "        mark[i-1] = Y_pred[100]             # If rumors in ith month is more than 100 than mark will be the 100th rumor\n",
    "    else:\n",
    "        mark[i-1] = Y_pred[len(Y_pred)-1]   # If rumors in ith month is less than 100 than mark will be the last rumor\n",
    "                "
   ]
  },
  {
   "cell_type": "code",
   "execution_count": 272,
   "metadata": {},
   "outputs": [],
   "source": [
    "# Function to predict rumors of upcoming months whether they will lie in top100 rumors of that month or not\n",
    "def test_prediction(data):\n",
    "    \n",
    "    data = pd.DataFrame(data)\n",
    "    data['avg_reliability'] = (4*data['CREDIBILITY']+5*data['RELIABILITY'])/9\n",
    "    data = data.drop(['CREDIBILITY','RELIABILITY'],axis=1)\n",
    "    \n",
    "    data = data.drop(['[6,7]','[7,8]','[8,9]','[9,10]','diff_target_SP500_price_move_10','diff_target_SP500_price_move_5','diff_target_SP500_price_move_3'],axis=1)    \n",
    "    data['avg_target_price_move'] = (2*data['target_price_move_3']+3*data['target_price_move_5']+data['target_price_move_10'])/6\n",
    "    data = data.drop(['target_price_move_3','target_price_move_5','target_price_move_10'],axis=1)\n",
    "\n",
    "    data['[-2,0]'] = (data['[-2,-1]']+data['[-1,0]'])/2\n",
    "    data = data.drop(['Unnamed: 0','[-2,-1]','[-1,0]'],axis=1)\n",
    "\n",
    "    data['[0,3]'] = (data['[0,1]']+data['[1,2]']+data['[2,3]'])/3\n",
    "    data = data.drop(['[0,1]','[1,2]','[2,3]'],axis=1)\n",
    "\n",
    "    data['[3,6]'] = (data['[3,4]']+data['[4,5]']+data['[5,6]'])/3\n",
    "    data = data.drop(['[3,4]','[4,5]','[5,6]'],axis=1)\n",
    "    \n",
    "    data = data[['RumorDate','MARKETCAP','LASTTRADE','WEEKHIGH52','WEEKLOW52','CASH','EPS','PE','GROSSMARGINS','NETMARGINS','AVERAGEVOLUME','avg_target_price_move','[-2,0]','[0,3]','[3,6]','avg_reliability']]\n",
    "    data = data.drop(['LASTTRADE','GROSSMARGINS','PE','WEEKLOW52'],axis=1)\n",
    "\n",
    "    data['RumorMonth'] = pd.DatetimeIndex(data['RumorDate']).month\n",
    "    data = data.drop(['RumorDate'],axis=1)\n",
    "\n",
    "    data = data[['RumorMonth','MARKETCAP','WEEKHIGH52','CASH','EPS','NETMARGINS','AVERAGEVOLUME','avg_target_price_move','[-2,0]','[0,3]','[3,6]','avg_reliability']]\n",
    "    \n",
    "    \n",
    "    months = [1,2,3,4,5,6,7,8,9,10,11,12]\n",
    "    \n",
    "    for i in months:\n",
    "        data = data[data['RumorMonth'] == i]\n",
    "        x = data.iloc[:,1:11]\n",
    "        y_pred = reg[i-1].predict(x) # Using trained model coefficients of ith month to predict\n",
    "        if(y_pred >= mark[i-1]):     # Comparing the prediction with the mark\n",
    "            print('The Rumor will be in Top 100 rumors.')\n",
    "        else:\n",
    "            print('The Rumor will not be in Top 100 rumors.')\n",
    "    "
   ]
  }
 ],
 "metadata": {
  "kernelspec": {
   "display_name": "Python 3",
   "language": "python",
   "name": "python3"
  },
  "language_info": {
   "codemirror_mode": {
    "name": "ipython",
    "version": 3
   },
   "file_extension": ".py",
   "mimetype": "text/x-python",
   "name": "python",
   "nbconvert_exporter": "python",
   "pygments_lexer": "ipython3",
   "version": "3.6.4"
  }
 },
 "nbformat": 4,
 "nbformat_minor": 2
}
